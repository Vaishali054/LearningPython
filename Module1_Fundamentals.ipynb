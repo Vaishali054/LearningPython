{
  "nbformat": 4,
  "nbformat_minor": 0,
  "metadata": {
    "colab": {
      "provenance": [],
      "authorship_tag": "ABX9TyN6oDOt1eGsen686HJ0/Dc4"
    },
    "kernelspec": {
      "name": "python3",
      "display_name": "Python 3"
    },
    "language_info": {
      "name": "python"
    }
  },
  "cells": [
    {
      "cell_type": "code",
      "execution_count": null,
      "metadata": {
        "colab": {
          "base_uri": "https://localhost:8080/"
        },
        "id": "I9bdkA3aQGB6",
        "outputId": "32d7d217-457b-4235-9884-45fcc36b661e"
      },
      "outputs": [
        {
          "output_type": "stream",
          "name": "stdout",
          "text": [
            "Hello World\n"
          ]
        }
      ],
      "source": [
        "print(\"Hello World\") #open and close brackets"
      ]
    },
    {
      "cell_type": "code",
      "source": [
        "a=3\n",
        "a"
      ],
      "metadata": {
        "colab": {
          "base_uri": "https://localhost:8080/"
        },
        "id": "of72gMNbQRtn",
        "outputId": "54b7c45e-19f0-4fdb-bf56-296a1d89c53c"
      },
      "execution_count": null,
      "outputs": [
        {
          "output_type": "execute_result",
          "data": {
            "text/plain": [
              "3"
            ]
          },
          "metadata": {},
          "execution_count": 22
        }
      ]
    },
    {
      "cell_type": "markdown",
      "source": [
        "**Variables** are placeholder where we will keep variety of data which we can use to write logic"
      ],
      "metadata": {
        "id": "0Df-t45uQno4"
      }
    },
    {
      "cell_type": "code",
      "source": [
        "type(a)"
      ],
      "metadata": {
        "colab": {
          "base_uri": "https://localhost:8080/"
        },
        "id": "LAxSzzBIQ1ox",
        "outputId": "c445c0a1-ad3c-4d80-a151-56455d467a77"
      },
      "execution_count": null,
      "outputs": [
        {
          "output_type": "execute_result",
          "data": {
            "text/plain": [
              "int"
            ]
          },
          "metadata": {},
          "execution_count": 23
        }
      ]
    },
    {
      "cell_type": "code",
      "source": [
        "b=4.2\n",
        "type(b)"
      ],
      "metadata": {
        "colab": {
          "base_uri": "https://localhost:8080/"
        },
        "id": "zikwVS-lRAvS",
        "outputId": "16448505-6d1b-4f47-a233-9298259d218f"
      },
      "execution_count": null,
      "outputs": [
        {
          "output_type": "execute_result",
          "data": {
            "text/plain": [
              "float"
            ]
          },
          "metadata": {},
          "execution_count": 24
        }
      ]
    },
    {
      "cell_type": "code",
      "source": [
        "a=\"Ajay\"\n",
        "type(a)"
      ],
      "metadata": {
        "colab": {
          "base_uri": "https://localhost:8080/"
        },
        "id": "bz0PcR9JRGyV",
        "outputId": "97516c81-b31e-46fb-9bd9-932ae8bb61c4"
      },
      "execution_count": null,
      "outputs": [
        {
          "output_type": "execute_result",
          "data": {
            "text/plain": [
              "str"
            ]
          },
          "metadata": {},
          "execution_count": 25
        }
      ]
    },
    {
      "cell_type": "code",
      "source": [
        "d=True\n",
        "type(d)"
      ],
      "metadata": {
        "colab": {
          "base_uri": "https://localhost:8080/"
        },
        "id": "Yy26ZQGRRQq2",
        "outputId": "18426dcb-4279-46df-8338-f74a4f4a321b"
      },
      "execution_count": null,
      "outputs": [
        {
          "output_type": "execute_result",
          "data": {
            "text/plain": [
              "bool"
            ]
          },
          "metadata": {},
          "execution_count": 26
        }
      ]
    },
    {
      "cell_type": "code",
      "source": [
        "True-False"
      ],
      "metadata": {
        "colab": {
          "base_uri": "https://localhost:8080/"
        },
        "id": "K9bqB87nRUIQ",
        "outputId": "98d5b12e-626e-4ae9-e076-2805eac6644b"
      },
      "execution_count": null,
      "outputs": [
        {
          "output_type": "execute_result",
          "data": {
            "text/plain": [
              "1"
            ]
          },
          "metadata": {},
          "execution_count": 27
        }
      ]
    },
    {
      "cell_type": "code",
      "source": [
        "True*False"
      ],
      "metadata": {
        "colab": {
          "base_uri": "https://localhost:8080/"
        },
        "id": "TXv0Ll-ZRav2",
        "outputId": "7e4f5761-c2b1-4fc8-c5d7-d987be5d6b5b"
      },
      "execution_count": null,
      "outputs": [
        {
          "output_type": "execute_result",
          "data": {
            "text/plain": [
              "0"
            ]
          },
          "metadata": {},
          "execution_count": 28
        }
      ]
    },
    {
      "cell_type": "markdown",
      "source": [
        "True/False -> it will throw ZeroDivisionError"
      ],
      "metadata": {
        "id": "I-GGC7zqRcrr"
      }
    },
    {
      "cell_type": "code",
      "source": [
        "c=5+ 6j  #x+iy\n",
        "print(type(c))\n",
        "print(c.real, c.imag)\n"
      ],
      "metadata": {
        "colab": {
          "base_uri": "https://localhost:8080/"
        },
        "id": "UBOdnfqZRe23",
        "outputId": "3405b201-ddf5-4f06-dbce-feec59f7184b"
      },
      "execution_count": null,
      "outputs": [
        {
          "output_type": "stream",
          "name": "stdout",
          "text": [
            "<class 'complex'>\n",
            "5.0 6.0\n"
          ]
        }
      ]
    },
    {
      "cell_type": "markdown",
      "source": [
        "**Rules of defining variable-**\n",
        "1. A variable can only start with a letter or a underscore character.\n",
        "2. Variable name should make sense, eg, location = \"delhi\""
      ],
      "metadata": {
        "id": "I6Q9_CdPR5ta"
      }
    },
    {
      "cell_type": "markdown",
      "source": [
        "**Comments**\n",
        "1. One line comment- #\n",
        "2. Multiple line comment-\n",
        "       \"\"\"\n",
        "       MUltiline\n",
        "       comment\n",
        "       \"\"\"     or Ctrl + forward slash"
      ],
      "metadata": {
        "id": "TmxbNP-FSwYS"
      }
    },
    {
      "cell_type": "markdown",
      "source": [
        "**Keywords**- predefined words, reserved words, keywords cannot be used as a variable declaration."
      ],
      "metadata": {
        "id": "DeR9MC0GTSUz"
      }
    },
    {
      "cell_type": "code",
      "source": [
        "help('keywords')"
      ],
      "metadata": {
        "colab": {
          "base_uri": "https://localhost:8080/"
        },
        "id": "hDaCefLZTqr_",
        "outputId": "91c4bfea-d599-4f93-f97a-ec05f7ee552b"
      },
      "execution_count": null,
      "outputs": [
        {
          "output_type": "stream",
          "name": "stdout",
          "text": [
            "\n",
            "Here is a list of the Python keywords.  Enter any keyword to get more help.\n",
            "\n",
            "False               class               from                or\n",
            "None                continue            global              pass\n",
            "True                def                 if                  raise\n",
            "and                 del                 import              return\n",
            "as                  elif                in                  try\n",
            "assert              else                is                  while\n",
            "async               except              lambda              with\n",
            "await               finally             nonlocal            yield\n",
            "break               for                 not                 \n",
            "\n"
          ]
        }
      ]
    },
    {
      "cell_type": "markdown",
      "source": [
        "**Indentation** -\n",
        "```\n",
        "if 3>2:\n",
        "    print(\"greater\")\n",
        "```\n",
        "\n"
      ],
      "metadata": {
        "id": "-TvPg2KsTs0U"
      }
    },
    {
      "cell_type": "markdown",
      "source": [
        "**Statement**\n",
        "1. Assignment Statement\n",
        "\n",
        "\n",
        "```\n",
        "a=3\n",
        "```\n",
        "2. Expression Statement\n",
        "\n",
        "```\n",
        "a+b\n",
        "```\n",
        "3. Conditional Statement\n",
        "\n",
        "\n",
        "\n"
      ],
      "metadata": {
        "id": "0i17MkzgUIyH"
      }
    },
    {
      "cell_type": "markdown",
      "source": [
        "**Standard I/P & O/P**"
      ],
      "metadata": {
        "id": "BzqaRjJgUgwl"
      }
    },
    {
      "cell_type": "code",
      "source": [
        "name=input(\"please enter your name-\")"
      ],
      "metadata": {
        "colab": {
          "base_uri": "https://localhost:8080/"
        },
        "id": "F7zBW5GfUqdS",
        "outputId": "73814dbb-5cba-4db9-e003-2161f7ad9d02"
      },
      "execution_count": null,
      "outputs": [
        {
          "name": "stdout",
          "output_type": "stream",
          "text": [
            "please enter your name-vaish\n"
          ]
        }
      ]
    },
    {
      "cell_type": "code",
      "source": [
        "print(name)\n",
        "type(name)\n"
      ],
      "metadata": {
        "colab": {
          "base_uri": "https://localhost:8080/"
        },
        "id": "cJ7GdodfUu3w",
        "outputId": "f6b5083b-fb97-497a-ab9c-92da300aa562"
      },
      "execution_count": null,
      "outputs": [
        {
          "output_type": "stream",
          "name": "stdout",
          "text": [
            "vaish\n"
          ]
        },
        {
          "output_type": "execute_result",
          "data": {
            "text/plain": [
              "str"
            ]
          },
          "metadata": {},
          "execution_count": 32
        }
      ]
    },
    {
      "cell_type": "code",
      "source": [
        "s=\"1.21\"\n",
        "print(type(s))\n",
        "float(s)\n",
        "print(s, type(s))"
      ],
      "metadata": {
        "colab": {
          "base_uri": "https://localhost:8080/"
        },
        "id": "0kckMUYVU3HL",
        "outputId": "4721a334-50a2-42fb-c718-c7a74de7e646"
      },
      "execution_count": null,
      "outputs": [
        {
          "output_type": "stream",
          "name": "stdout",
          "text": [
            "<class 'str'>\n",
            "1.21 <class 'str'>\n"
          ]
        }
      ]
    },
    {
      "cell_type": "code",
      "source": [
        "int(s)"
      ],
      "metadata": {
        "colab": {
          "base_uri": "https://localhost:8080/",
          "height": 141
        },
        "id": "NsDqTBsUWFue",
        "outputId": "575db099-0a01-4bb2-826d-18b59868af0f"
      },
      "execution_count": null,
      "outputs": [
        {
          "output_type": "error",
          "ename": "ValueError",
          "evalue": "invalid literal for int() with base 10: '1.21'",
          "traceback": [
            "\u001b[0;31m---------------------------------------------------------------------------\u001b[0m",
            "\u001b[0;31mValueError\u001b[0m                                Traceback (most recent call last)",
            "\u001b[0;32m<ipython-input-34-2c4720ab420a>\u001b[0m in \u001b[0;36m<cell line: 1>\u001b[0;34m()\u001b[0m\n\u001b[0;32m----> 1\u001b[0;31m \u001b[0mint\u001b[0m\u001b[0;34m(\u001b[0m\u001b[0ms\u001b[0m\u001b[0;34m)\u001b[0m\u001b[0;34m\u001b[0m\u001b[0;34m\u001b[0m\u001b[0m\n\u001b[0m",
            "\u001b[0;31mValueError\u001b[0m: invalid literal for int() with base 10: '1.21'"
          ]
        }
      ]
    },
    {
      "cell_type": "code",
      "source": [
        "demo=\"1\"\n",
        "int(demo)"
      ],
      "metadata": {
        "colab": {
          "base_uri": "https://localhost:8080/"
        },
        "id": "OquLbF2kWLjJ",
        "outputId": "711971d0-1b4e-441e-d4f1-8a06fd371998"
      },
      "execution_count": null,
      "outputs": [
        {
          "output_type": "execute_result",
          "data": {
            "text/plain": [
              "1"
            ]
          },
          "metadata": {},
          "execution_count": 35
        }
      ]
    },
    {
      "cell_type": "markdown",
      "source": [
        "1. Some strings cannot be converted to another data types like int, but it can be converted into float.\n",
        "2. Python is case sensitive"
      ],
      "metadata": {
        "id": "3DXPSe6lVTA7"
      }
    },
    {
      "cell_type": "markdown",
      "source": [
        "**Mutability and Immutability**"
      ],
      "metadata": {
        "id": "-O1o4QrhW7QK"
      }
    },
    {
      "cell_type": "code",
      "source": [
        "b=\"Ajay\"\n",
        "print(b[2], b[-1])"
      ],
      "metadata": {
        "colab": {
          "base_uri": "https://localhost:8080/"
        },
        "id": "hlWluLa8XKpi",
        "outputId": "b69512d9-e963-4808-cc7f-a2be1a358858"
      },
      "execution_count": null,
      "outputs": [
        {
          "output_type": "stream",
          "name": "stdout",
          "text": [
            "a y\n"
          ]
        }
      ]
    },
    {
      "cell_type": "code",
      "source": [
        "#List container -> amy type of data\n",
        "list_cont=[1,2,1.1,\"vaish\"]\n",
        "type(list_cont)"
      ],
      "metadata": {
        "colab": {
          "base_uri": "https://localhost:8080/"
        },
        "id": "iO8IwBv3XrDd",
        "outputId": "ceb86c45-6256-4cd5-9ed4-c81f6f7cc587"
      },
      "execution_count": null,
      "outputs": [
        {
          "output_type": "execute_result",
          "data": {
            "text/plain": [
              "list"
            ]
          },
          "metadata": {},
          "execution_count": 38
        }
      ]
    },
    {
      "cell_type": "code",
      "source": [
        "list_cont[3]=\"nav\"\n",
        "list_cont"
      ],
      "metadata": {
        "colab": {
          "base_uri": "https://localhost:8080/"
        },
        "id": "Tdrwb2IiX5TS",
        "outputId": "ea89e398-5047-4419-efaa-b16412caab36"
      },
      "execution_count": null,
      "outputs": [
        {
          "output_type": "execute_result",
          "data": {
            "text/plain": [
              "[1, 2, 1.1, 'nav']"
            ]
          },
          "metadata": {},
          "execution_count": 39
        }
      ]
    },
    {
      "cell_type": "markdown",
      "source": [
        "List is **mutable**"
      ],
      "metadata": {
        "id": "TsE35aEfYIbD"
      }
    },
    {
      "cell_type": "code",
      "source": [
        "b=\"pwskills\"\n",
        "b[2]=\"s\"\n",
        "b"
      ],
      "metadata": {
        "colab": {
          "base_uri": "https://localhost:8080/",
          "height": 176
        },
        "id": "pO0pMLttYQ3v",
        "outputId": "c85b74f7-3f26-4e19-d43f-f84c8b14317c"
      },
      "execution_count": null,
      "outputs": [
        {
          "output_type": "error",
          "ename": "TypeError",
          "evalue": "'str' object does not support item assignment",
          "traceback": [
            "\u001b[0;31m---------------------------------------------------------------------------\u001b[0m",
            "\u001b[0;31mTypeError\u001b[0m                                 Traceback (most recent call last)",
            "\u001b[0;32m<ipython-input-40-f31a7cfe86f6>\u001b[0m in \u001b[0;36m<cell line: 2>\u001b[0;34m()\u001b[0m\n\u001b[1;32m      1\u001b[0m \u001b[0mb\u001b[0m\u001b[0;34m=\u001b[0m\u001b[0;34m\"pwskills\"\u001b[0m\u001b[0;34m\u001b[0m\u001b[0;34m\u001b[0m\u001b[0m\n\u001b[0;32m----> 2\u001b[0;31m \u001b[0mb\u001b[0m\u001b[0;34m[\u001b[0m\u001b[0;36m2\u001b[0m\u001b[0;34m]\u001b[0m\u001b[0;34m=\u001b[0m\u001b[0;34m\"s\"\u001b[0m\u001b[0;34m\u001b[0m\u001b[0;34m\u001b[0m\u001b[0m\n\u001b[0m\u001b[1;32m      3\u001b[0m \u001b[0mb\u001b[0m\u001b[0;34m\u001b[0m\u001b[0;34m\u001b[0m\u001b[0m\n",
            "\u001b[0;31mTypeError\u001b[0m: 'str' object does not support item assignment"
          ]
        }
      ]
    },
    {
      "cell_type": "markdown",
      "source": [
        "String is **immutable**"
      ],
      "metadata": {
        "id": "zOljXBi3YYiW"
      }
    },
    {
      "cell_type": "markdown",
      "source": [
        "**Operators**\n",
        "1. Aritmetic operators\n",
        "2. Comparison operators\n",
        "3. Logical operators (and, or, not)\n",
        "4. Assignment operators\n",
        "5. Membership operators (in,not in)\n",
        "6. Identity operators- compare the memory location of two object(is, is not)\n",
        "7. Bitwise operators - operations at bit level (&,|,~,^, <<, >>)\n"
      ],
      "metadata": {
        "id": "XLbuW2jYYfvb"
      }
    },
    {
      "cell_type": "code",
      "source": [
        "print(3 & 10)\n",
        "print(bin(3), bin(10))"
      ],
      "metadata": {
        "colab": {
          "base_uri": "https://localhost:8080/"
        },
        "id": "MK7uOb5_a41v",
        "outputId": "c4d58274-d3b2-4131-f975-e3aabd8120b0"
      },
      "execution_count": null,
      "outputs": [
        {
          "output_type": "stream",
          "name": "stdout",
          "text": [
            "2\n",
            "0b11 0b1010\n"
          ]
        }
      ]
    },
    {
      "cell_type": "code",
      "source": [
        "~6"
      ],
      "metadata": {
        "colab": {
          "base_uri": "https://localhost:8080/"
        },
        "id": "HVbRivVqbEf5",
        "outputId": "cf010b29-ab71-42e4-e95a-3389b82da52e"
      },
      "execution_count": null,
      "outputs": [
        {
          "output_type": "execute_result",
          "data": {
            "text/plain": [
              "-7"
            ]
          },
          "metadata": {},
          "execution_count": 42
        }
      ]
    },
    {
      "cell_type": "code",
      "source": [
        "#left shift (what ever you want to shift, put that many zeros at right)\n",
        "35<<3"
      ],
      "metadata": {
        "colab": {
          "base_uri": "https://localhost:8080/"
        },
        "id": "LpByOq66bRdK",
        "outputId": "215b953c-e6d1-47c3-a5d1-a396298382f8"
      },
      "execution_count": null,
      "outputs": [
        {
          "output_type": "execute_result",
          "data": {
            "text/plain": [
              "280"
            ]
          },
          "metadata": {},
          "execution_count": 43
        }
      ]
    },
    {
      "cell_type": "code",
      "source": [
        "bin(35)"
      ],
      "metadata": {
        "colab": {
          "base_uri": "https://localhost:8080/",
          "height": 36
        },
        "id": "jI1R5Tkzbw-E",
        "outputId": "2095e9c3-7115-46a6-9522-bf6b80cd5cc0"
      },
      "execution_count": null,
      "outputs": [
        {
          "output_type": "execute_result",
          "data": {
            "text/plain": [
              "'0b100011'"
            ],
            "application/vnd.google.colaboratory.intrinsic+json": {
              "type": "string"
            }
          },
          "metadata": {},
          "execution_count": 44
        }
      ]
    },
    {
      "cell_type": "code",
      "source": [
        "##right shift (whatever you want to shift, remove those many elements from right)\n",
        "35>>3"
      ],
      "metadata": {
        "colab": {
          "base_uri": "https://localhost:8080/"
        },
        "id": "bWrKc5eobzKI",
        "outputId": "ef933e6a-0e6d-4c81-8754-03692fad586c"
      },
      "execution_count": null,
      "outputs": [
        {
          "output_type": "execute_result",
          "data": {
            "text/plain": [
              "4"
            ]
          },
          "metadata": {},
          "execution_count": 46
        }
      ]
    },
    {
      "cell_type": "markdown",
      "source": [
        "**Order of Precedence**\n",
        "1. execution will start from left\n",
        "2. always start with parenthesis\n"
      ],
      "metadata": {
        "id": "2f1MoE-6b77q"
      }
    },
    {
      "cell_type": "markdown",
      "source": [
        "**Type Casting**- process of changing the data type of a value or object\n",
        "\n",
        "Two types\n",
        "1. Implicit- python does automatically\n",
        "2. Explicit- user does it"
      ],
      "metadata": {
        "id": "9pCgKiWWcv2W"
      }
    },
    {
      "cell_type": "markdown",
      "source": [
        "**Conditional Statements**\n",
        "1. if\n",
        "2. if-else\n",
        "3. if-elif-else\n",
        "4. nested if-else"
      ],
      "metadata": {
        "id": "zHEZ735GdbZp"
      }
    },
    {
      "cell_type": "code",
      "source": [
        "a=2;\n",
        "if a>100:\n",
        "  print(\"The number is greater than 100\")"
      ],
      "metadata": {
        "id": "T8OsojjteeqI"
      },
      "execution_count": null,
      "outputs": []
    },
    {
      "cell_type": "code",
      "source": [
        "hour=13\n",
        "\n",
        "if hour<12:\n",
        "  print(\"Good Morning!\")\n",
        "elif 12<=hour<=17:\n",
        "  print(\"Good evening!\")\n",
        "else:\n",
        "  print(\"Good night!\")"
      ],
      "metadata": {
        "colab": {
          "base_uri": "https://localhost:8080/"
        },
        "id": "t-we5F6xeoxB",
        "outputId": "9f705033-18e4-43ff-838c-f3d7f226bbed"
      },
      "execution_count": 1,
      "outputs": [
        {
          "output_type": "stream",
          "name": "stdout",
          "text": [
            "Good evening!\n"
          ]
        }
      ]
    },
    {
      "cell_type": "markdown",
      "source": [
        "**Loops**\n",
        "\n",
        "1.  While\n",
        "2.  For"
      ],
      "metadata": {
        "id": "OygAIQ94_8sp"
      }
    },
    {
      "cell_type": "code",
      "source": [
        "n=7\n",
        "i=1\n",
        "while i<n:\n",
        "  print(i)\n",
        "  i=i+1\n",
        "else:\n",
        "  print(\"this will be printed when while is completely executed\")\n"
      ],
      "metadata": {
        "colab": {
          "base_uri": "https://localhost:8080/"
        },
        "id": "bsmquWNtADYo",
        "outputId": "f07af0f5-bf67-4ebd-c2ea-e4e2cc8b3675"
      },
      "execution_count": 2,
      "outputs": [
        {
          "output_type": "stream",
          "name": "stdout",
          "text": [
            "1\n",
            "2\n",
            "3\n",
            "4\n",
            "5\n",
            "6\n",
            "this will be printed when while is completely executed\n"
          ]
        }
      ]
    },
    {
      "cell_type": "markdown",
      "source": [
        " Concept of break and continue"
      ],
      "metadata": {
        "id": "URSaEVb1BRqx"
      }
    },
    {
      "cell_type": "code",
      "source": [
        "n=7\n",
        "i=1\n",
        "while i<n:\n",
        "  print(i)\n",
        "  i=i+1\n",
        "  if i==3:\n",
        "    break\n",
        "else:\n",
        "  print(\"this will be printed when while is completely executed\")"
      ],
      "metadata": {
        "colab": {
          "base_uri": "https://localhost:8080/"
        },
        "id": "M8hHDlw2BDit",
        "outputId": "ace71069-fc57-4bd8-ef75-226ff669de24"
      },
      "execution_count": 4,
      "outputs": [
        {
          "output_type": "stream",
          "name": "stdout",
          "text": [
            "1\n",
            "2\n"
          ]
        }
      ]
    },
    {
      "cell_type": "markdown",
      "source": [
        "Concept of range\n",
        "`range(start,end,step)`"
      ],
      "metadata": {
        "id": "VL7pBPenBfuz"
      }
    },
    {
      "cell_type": "code",
      "source": [],
      "metadata": {
        "id": "e5BmjQ6lB43j"
      },
      "execution_count": null,
      "outputs": []
    }
  ]
}