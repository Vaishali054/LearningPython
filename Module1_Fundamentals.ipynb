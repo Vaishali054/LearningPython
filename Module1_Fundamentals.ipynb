{
  "nbformat": 4,
  "nbformat_minor": 0,
  "metadata": {
    "colab": {
      "provenance": [],
      "authorship_tag": "ABX9TyPBpGaEpU6LEhj0kviQQJyx",
      "include_colab_link": true
    },
    "kernelspec": {
      "name": "python3",
      "display_name": "Python 3"
    },
    "language_info": {
      "name": "python"
    }
  },
  "cells": [
    {
      "cell_type": "markdown",
      "metadata": {
        "id": "view-in-github",
        "colab_type": "text"
      },
      "source": [
        "<a href=\"https://colab.research.google.com/github/Vaishali054/LearningPython/blob/main/Module1_Fundamentals.ipynb\" target=\"_parent\"><img src=\"https://colab.research.google.com/assets/colab-badge.svg\" alt=\"Open In Colab\"/></a>"
      ]
    },
    {
      "cell_type": "code",
      "execution_count": 21,
      "metadata": {
        "colab": {
          "base_uri": "https://localhost:8080/"
        },
        "id": "I9bdkA3aQGB6",
        "outputId": "32d7d217-457b-4235-9884-45fcc36b661e"
      },
      "outputs": [
        {
          "output_type": "stream",
          "name": "stdout",
          "text": [
            "Hello World\n"
          ]
        }
      ],
      "source": [
        "print(\"Hello World\") #open and close brackets"
      ]
    },
    {
      "cell_type": "code",
      "source": [
        "a=3\n",
        "a"
      ],
      "metadata": {
        "colab": {
          "base_uri": "https://localhost:8080/"
        },
        "id": "of72gMNbQRtn",
        "outputId": "54b7c45e-19f0-4fdb-bf56-296a1d89c53c"
      },
      "execution_count": 22,
      "outputs": [
        {
          "output_type": "execute_result",
          "data": {
            "text/plain": [
              "3"
            ]
          },
          "metadata": {},
          "execution_count": 22
        }
      ]
    },
    {
      "cell_type": "markdown",
      "source": [
        "**Variables** are placeholder where we will keep variety of data which we can use to write logic"
      ],
      "metadata": {
        "id": "0Df-t45uQno4"
      }
    },
    {
      "cell_type": "code",
      "source": [
        "type(a)"
      ],
      "metadata": {
        "colab": {
          "base_uri": "https://localhost:8080/"
        },
        "id": "LAxSzzBIQ1ox",
        "outputId": "c445c0a1-ad3c-4d80-a151-56455d467a77"
      },
      "execution_count": 23,
      "outputs": [
        {
          "output_type": "execute_result",
          "data": {
            "text/plain": [
              "int"
            ]
          },
          "metadata": {},
          "execution_count": 23
        }
      ]
    },
    {
      "cell_type": "code",
      "source": [
        "b=4.2\n",
        "type(b)"
      ],
      "metadata": {
        "colab": {
          "base_uri": "https://localhost:8080/"
        },
        "id": "zikwVS-lRAvS",
        "outputId": "16448505-6d1b-4f47-a233-9298259d218f"
      },
      "execution_count": 24,
      "outputs": [
        {
          "output_type": "execute_result",
          "data": {
            "text/plain": [
              "float"
            ]
          },
          "metadata": {},
          "execution_count": 24
        }
      ]
    },
    {
      "cell_type": "code",
      "source": [
        "a=\"Ajay\"\n",
        "type(a)"
      ],
      "metadata": {
        "colab": {
          "base_uri": "https://localhost:8080/"
        },
        "id": "bz0PcR9JRGyV",
        "outputId": "97516c81-b31e-46fb-9bd9-932ae8bb61c4"
      },
      "execution_count": 25,
      "outputs": [
        {
          "output_type": "execute_result",
          "data": {
            "text/plain": [
              "str"
            ]
          },
          "metadata": {},
          "execution_count": 25
        }
      ]
    },
    {
      "cell_type": "code",
      "source": [
        "d=True\n",
        "type(d)"
      ],
      "metadata": {
        "colab": {
          "base_uri": "https://localhost:8080/"
        },
        "id": "Yy26ZQGRRQq2",
        "outputId": "18426dcb-4279-46df-8338-f74a4f4a321b"
      },
      "execution_count": 26,
      "outputs": [
        {
          "output_type": "execute_result",
          "data": {
            "text/plain": [
              "bool"
            ]
          },
          "metadata": {},
          "execution_count": 26
        }
      ]
    },
    {
      "cell_type": "code",
      "source": [
        "True-False"
      ],
      "metadata": {
        "colab": {
          "base_uri": "https://localhost:8080/"
        },
        "id": "K9bqB87nRUIQ",
        "outputId": "98d5b12e-626e-4ae9-e076-2805eac6644b"
      },
      "execution_count": 27,
      "outputs": [
        {
          "output_type": "execute_result",
          "data": {
            "text/plain": [
              "1"
            ]
          },
          "metadata": {},
          "execution_count": 27
        }
      ]
    },
    {
      "cell_type": "code",
      "source": [
        "True*False"
      ],
      "metadata": {
        "colab": {
          "base_uri": "https://localhost:8080/"
        },
        "id": "TXv0Ll-ZRav2",
        "outputId": "7e4f5761-c2b1-4fc8-c5d7-d987be5d6b5b"
      },
      "execution_count": 28,
      "outputs": [
        {
          "output_type": "execute_result",
          "data": {
            "text/plain": [
              "0"
            ]
          },
          "metadata": {},
          "execution_count": 28
        }
      ]
    },
    {
      "cell_type": "markdown",
      "source": [
        "True/False -> it will throw ZeroDivisionError"
      ],
      "metadata": {
        "id": "I-GGC7zqRcrr"
      }
    },
    {
      "cell_type": "code",
      "source": [
        "c=5+ 6j  #x+iy\n",
        "print(type(c))\n",
        "print(c.real, c.imag)\n"
      ],
      "metadata": {
        "colab": {
          "base_uri": "https://localhost:8080/"
        },
        "id": "UBOdnfqZRe23",
        "outputId": "3405b201-ddf5-4f06-dbce-feec59f7184b"
      },
      "execution_count": 29,
      "outputs": [
        {
          "output_type": "stream",
          "name": "stdout",
          "text": [
            "<class 'complex'>\n",
            "5.0 6.0\n"
          ]
        }
      ]
    },
    {
      "cell_type": "markdown",
      "source": [
        "**Rules of defining variable-**\n",
        "1. A variable can only start with a letter or a underscore character.\n",
        "2. Variable name should make sense, eg, location = \"delhi\""
      ],
      "metadata": {
        "id": "I6Q9_CdPR5ta"
      }
    },
    {
      "cell_type": "markdown",
      "source": [
        "**Comments**\n",
        "1. One line comment- #\n",
        "2. Multiple line comment-\n",
        "       \"\"\"\n",
        "       MUltiline\n",
        "       comment\n",
        "       \"\"\"     or Ctrl + forward slash"
      ],
      "metadata": {
        "id": "TmxbNP-FSwYS"
      }
    },
    {
      "cell_type": "markdown",
      "source": [
        "**Keywords**- predefined words, reserved words, keywords cannot be used as a variable declaration."
      ],
      "metadata": {
        "id": "DeR9MC0GTSUz"
      }
    },
    {
      "cell_type": "code",
      "source": [
        "help('keywords')"
      ],
      "metadata": {
        "colab": {
          "base_uri": "https://localhost:8080/"
        },
        "id": "hDaCefLZTqr_",
        "outputId": "91c4bfea-d599-4f93-f97a-ec05f7ee552b"
      },
      "execution_count": 30,
      "outputs": [
        {
          "output_type": "stream",
          "name": "stdout",
          "text": [
            "\n",
            "Here is a list of the Python keywords.  Enter any keyword to get more help.\n",
            "\n",
            "False               class               from                or\n",
            "None                continue            global              pass\n",
            "True                def                 if                  raise\n",
            "and                 del                 import              return\n",
            "as                  elif                in                  try\n",
            "assert              else                is                  while\n",
            "async               except              lambda              with\n",
            "await               finally             nonlocal            yield\n",
            "break               for                 not                 \n",
            "\n"
          ]
        }
      ]
    },
    {
      "cell_type": "markdown",
      "source": [
        "**Indentation** -\n",
        "```\n",
        "if 3>2:\n",
        "    print(\"greater\")\n",
        "```\n",
        "\n"
      ],
      "metadata": {
        "id": "-TvPg2KsTs0U"
      }
    },
    {
      "cell_type": "markdown",
      "source": [
        "**Statement**\n",
        "1. Assignment Statement\n",
        "\n",
        "\n",
        "```\n",
        "a=3\n",
        "```\n",
        "2. Expression Statement\n",
        "\n",
        "```\n",
        "a+b\n",
        "```\n",
        "3. Conditional Statement\n",
        "\n",
        "\n",
        "\n"
      ],
      "metadata": {
        "id": "0i17MkzgUIyH"
      }
    },
    {
      "cell_type": "markdown",
      "source": [
        "**Standard I/P & O/P**"
      ],
      "metadata": {
        "id": "BzqaRjJgUgwl"
      }
    },
    {
      "cell_type": "code",
      "source": [
        "name=input(\"please enter your name-\")"
      ],
      "metadata": {
        "colab": {
          "base_uri": "https://localhost:8080/"
        },
        "id": "F7zBW5GfUqdS",
        "outputId": "73814dbb-5cba-4db9-e003-2161f7ad9d02"
      },
      "execution_count": 31,
      "outputs": [
        {
          "name": "stdout",
          "output_type": "stream",
          "text": [
            "please enter your name-vaish\n"
          ]
        }
      ]
    },
    {
      "cell_type": "code",
      "source": [
        "print(name)\n",
        "type(name)\n"
      ],
      "metadata": {
        "colab": {
          "base_uri": "https://localhost:8080/"
        },
        "id": "cJ7GdodfUu3w",
        "outputId": "f6b5083b-fb97-497a-ab9c-92da300aa562"
      },
      "execution_count": 32,
      "outputs": [
        {
          "output_type": "stream",
          "name": "stdout",
          "text": [
            "vaish\n"
          ]
        },
        {
          "output_type": "execute_result",
          "data": {
            "text/plain": [
              "str"
            ]
          },
          "metadata": {},
          "execution_count": 32
        }
      ]
    },
    {
      "cell_type": "code",
      "source": [
        "s=\"1.21\"\n",
        "print(type(s))\n",
        "float(s)\n",
        "print(s, type(s))"
      ],
      "metadata": {
        "colab": {
          "base_uri": "https://localhost:8080/"
        },
        "id": "0kckMUYVU3HL",
        "outputId": "4721a334-50a2-42fb-c718-c7a74de7e646"
      },
      "execution_count": 33,
      "outputs": [
        {
          "output_type": "stream",
          "name": "stdout",
          "text": [
            "<class 'str'>\n",
            "1.21 <class 'str'>\n"
          ]
        }
      ]
    },
    {
      "cell_type": "code",
      "source": [
        "int(s)"
      ],
      "metadata": {
        "colab": {
          "base_uri": "https://localhost:8080/",
          "height": 141
        },
        "id": "NsDqTBsUWFue",
        "outputId": "575db099-0a01-4bb2-826d-18b59868af0f"
      },
      "execution_count": 34,
      "outputs": [
        {
          "output_type": "error",
          "ename": "ValueError",
          "evalue": "invalid literal for int() with base 10: '1.21'",
          "traceback": [
            "\u001b[0;31m---------------------------------------------------------------------------\u001b[0m",
            "\u001b[0;31mValueError\u001b[0m                                Traceback (most recent call last)",
            "\u001b[0;32m<ipython-input-34-2c4720ab420a>\u001b[0m in \u001b[0;36m<cell line: 1>\u001b[0;34m()\u001b[0m\n\u001b[0;32m----> 1\u001b[0;31m \u001b[0mint\u001b[0m\u001b[0;34m(\u001b[0m\u001b[0ms\u001b[0m\u001b[0;34m)\u001b[0m\u001b[0;34m\u001b[0m\u001b[0;34m\u001b[0m\u001b[0m\n\u001b[0m",
            "\u001b[0;31mValueError\u001b[0m: invalid literal for int() with base 10: '1.21'"
          ]
        }
      ]
    },
    {
      "cell_type": "code",
      "source": [
        "demo=\"1\"\n",
        "int(demo)"
      ],
      "metadata": {
        "colab": {
          "base_uri": "https://localhost:8080/"
        },
        "id": "OquLbF2kWLjJ",
        "outputId": "711971d0-1b4e-441e-d4f1-8a06fd371998"
      },
      "execution_count": 35,
      "outputs": [
        {
          "output_type": "execute_result",
          "data": {
            "text/plain": [
              "1"
            ]
          },
          "metadata": {},
          "execution_count": 35
        }
      ]
    },
    {
      "cell_type": "markdown",
      "source": [
        "1. Some strings cannot be converted to another data types like int, but it can be converted into float.\n",
        "2. Python is case sensitive"
      ],
      "metadata": {
        "id": "3DXPSe6lVTA7"
      }
    }
  ]
}